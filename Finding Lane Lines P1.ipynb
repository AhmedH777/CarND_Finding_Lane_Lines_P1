{
 "cells": [
  {
   "cell_type": "markdown",
   "metadata": {},
   "source": [
    "# Finding Lane Lines"
   ]
  },
  {
   "cell_type": "markdown",
   "metadata": {},
   "source": [
    "## Import Packages"
   ]
  },
  {
   "cell_type": "code",
   "execution_count": 1,
   "metadata": {
    "collapsed": true
   },
   "outputs": [],
   "source": [
    "# Import everything needed to edit/save/watch video clips\n",
    "from moviepy.editor import VideoFileClip\n",
    "from IPython.display import HTML\n",
    "\n",
    "#importing some useful packages\n",
    "import matplotlib.pyplot as plt\n",
    "import matplotlib.image as mpimg\n",
    "import numpy as np\n",
    "from statistics import median\n",
    "import cv2\n",
    "import math\n",
    "%matplotlib inline"
   ]
  },
  {
   "cell_type": "markdown",
   "metadata": {},
   "source": [
    "## Helper Functions"
   ]
  },
  {
   "cell_type": "code",
   "execution_count": 2,
   "metadata": {
    "collapsed": true
   },
   "outputs": [],
   "source": [
    "def grayscale(img):\n",
    "    \"\"\"Applies the Grayscale transform\n",
    "    This will return an image with only one color channel\n",
    "    but NOTE: to see the returned image as grayscale\n",
    "    (assuming your grayscaled image is called 'gray')\n",
    "    you should call plt.imshow(gray, cmap='gray')\"\"\"\n",
    "    return cv2.cvtColor(img, cv2.COLOR_RGB2GRAY)\n",
    "    # Or use BGR2GRAY if you read an image with cv2.imread()\n",
    "    # return cv2.cvtColor(img, cv2.COLOR_BGR2GRAY)\n",
    "    \n",
    "def canny(img, low_threshold, high_threshold):\n",
    "    \"\"\"Applies the Canny transform\"\"\"\n",
    "    return cv2.Canny(img, low_threshold, high_threshold)\n",
    "\n",
    "def gaussian_blur(img, kernel_size):\n",
    "    \"\"\"Applies a Gaussian Noise kernel\"\"\"\n",
    "    return cv2.GaussianBlur(img, (kernel_size, kernel_size), 0)\n",
    "\n",
    "def region_of_interest(img, vertices):\n",
    "    \"\"\"\n",
    "    Applies an image mask.\n",
    "    \n",
    "    Only keeps the region of the image defined by the polygon\n",
    "    formed from `vertices`. The rest of the image is set to black.\n",
    "    \"\"\"\n",
    "    #defining a blank mask to start with\n",
    "    mask = np.zeros_like(img)   \n",
    "    \n",
    "    #defining a 3 channel or 1 channel color to fill the mask with depending on the input image\n",
    "    if len(img.shape) > 2:\n",
    "        channel_count = img.shape[2]  # i.e. 3 or 4 depending on your image\n",
    "        ignore_mask_color = (255,) * channel_count\n",
    "    else:\n",
    "        ignore_mask_color = 255\n",
    "        \n",
    "    #filling pixels inside the polygon defined by \"vertices\" with the fill color    \n",
    "    cv2.fillPoly(mask, vertices, ignore_mask_color)\n",
    "    \n",
    "    #returning the image only where mask pixels are nonzero\n",
    "    masked_image = cv2.bitwise_and(img, mask)\n",
    "    return masked_image\n",
    "\n",
    "def fit_best_line(X,Y):\n",
    "    \"\"\"\n",
    "    Returns the best line that can fit a set of points\n",
    "    \"\"\"\n",
    "    [m,b] =np.polyfit(X, Y, 1)\n",
    "    return m,b\n",
    "\n",
    "def extrapolate_X(y,m,b):\n",
    "    \"\"\"\n",
    "    Returns extrapolated value of x coordinate given the y coordinate for a line\n",
    "    \"\"\"\n",
    "    x = int((y - b)/m)\n",
    "    return x\n",
    "\n",
    "def calc_extrapolated_line(lines_list,y_start,y_end):\n",
    "    \"\"\"\n",
    "    Fit the best line for a set of points and extrapolate the start and end of the line\n",
    "    \"\"\"\n",
    "    X = []\n",
    "    Y = []\n",
    "    for line in lines_list:\n",
    "        for x1,y1,x2,y2 in line:\n",
    "            X.append(x1)\n",
    "            X.append(x2)\n",
    "            Y.append(y1)\n",
    "            Y.append(y2)\n",
    "\n",
    "    [m,b] =fit_best_line(X,Y)\n",
    "        \n",
    "    x = extrapolate_X(y_start,m,b)\n",
    "    start_point = (x,y_start)\n",
    "\n",
    "    x = extrapolate_X(y_end,m,b)\n",
    "    end_point = (x,y_end)\n",
    "    \n",
    "\n",
    "    return start_point,end_point\n",
    "    \n",
    "def calc_merged_point(point1,point2,weight):\n",
    "    \"\"\"\n",
    "    Apply complementry filter for two points given the weight\n",
    "    return the merged point\n",
    "    \"\"\"\n",
    "    merged_x = int((point1[0] * weight) + (point2[0] * (1-weight)))\n",
    "    merged_y = int((point1[1] * weight) + (point2[1] * (1-weight)))\n",
    "    return (merged_x,merged_y)\n",
    "\n",
    "def draw_lines(img, lines, color=[255, 0, 0], thickness=7):\n",
    "    \"\"\"    \n",
    "    This fuction Filter the hough transform lines and apply a simple complementry filter\n",
    "    to merge the new data with the old data\n",
    "    \n",
    "    Then the function draws the merged lines with `color` and `thickness`.    \n",
    "    Lines are drawn on the image inplace (mutates the image).\n",
    "    \"\"\"    \n",
    "    meanSlopeRight = 0.5 #Mean value for the right lane slope\n",
    "    meanSlopeLeft = -0.6 #Mean value for the left lane slope\n",
    "    stdDev = 0.1 #slope standard deviation\n",
    "    filtered_right_lines = []\n",
    "    filtered_left_lines = []\n",
    "    \n",
    "    #Filtering step based on slope\n",
    "    \n",
    "    for line in lines:\n",
    "        for x1,y1,x2,y2 in line:\n",
    "            slope = math.atan2(y2-y1,x2-x1)\n",
    "            if(slope > 0.0 and slope < meanSlopeRight + stdDev and slope > meanSlopeRight - stdDev):\n",
    "                filtered_right_lines.append(line)\n",
    "                \n",
    "            if(slope < 0.0 and slope < meanSlopeLeft + stdDev and slope > meanSlopeLeft - stdDev):\n",
    "                filtered_left_lines.append(line)\n",
    "    \n",
    "    #Apply best line fit algorithm to the filtered points\n",
    "    #Apply Compelementry filter to merge the new lane lines with the old lane lines\n",
    "    \n",
    "    y_start = int(img.shape[0]/2 + 80)\n",
    "    y_end = img.shape[0]\n",
    "    \n",
    "    #Right Lane Merge and Plotting\n",
    "    global start_point_right,end_point_right\n",
    "    if(len(filtered_right_lines) > 3):\n",
    "        start_point,end_point = calc_extrapolated_line(filtered_right_lines,y_start,y_end)\n",
    "        \n",
    "        if(start_point_right[0] == 0.0 and start_point_right[1] == 0.0 and\n",
    "           end_point_right[0] == 0.0 and end_point_right[1] == 0.0):\n",
    "            \n",
    "            start_point_right = start_point\n",
    "            end_point_right = end_point\n",
    "        else:\n",
    "            start_point_right = calc_merged_point(start_point_right,start_point,0.7)\n",
    "            end_point_right = calc_merged_point(end_point_right,end_point,0.7)\n",
    "        \n",
    "        cv2.line(img, start_point_right, end_point_right, color, thickness)\n",
    "        \n",
    "    else:\n",
    "        cv2.line(img, start_point_right, end_point_right, color, thickness)\n",
    "    \n",
    "    #Left Lane Merge and Plotting\n",
    "    global start_point_left,end_point_left\n",
    "    if(len(filtered_left_lines) > 3):\n",
    "        start_point,end_point = calc_extrapolated_line(filtered_left_lines,y_start,y_end)\n",
    "        \n",
    "        if(start_point_left[0] == 0.0 and start_point_left[1] == 0.0 and\n",
    "           end_point_left[0] == 0.0 and end_point_left[1] == 0.0):\n",
    "            \n",
    "            start_point_left = start_point\n",
    "            end_point_left = end_point\n",
    "        else:\n",
    "            start_point_left = calc_merged_point(start_point_left,start_point,0.7)\n",
    "            end_point_left = calc_merged_point(end_point_left,end_point,0.7)\n",
    "            \n",
    "        cv2.line(img, start_point_left, end_point_left, color, thickness)\n",
    "        \n",
    "    else:\n",
    "        cv2.line(img, start_point_left, end_point_left, color, thickness)\n",
    "\n",
    "def hough_lines(img, rho, theta, threshold, min_line_len, max_line_gap):\n",
    "    \"\"\"\n",
    "    `img` should be the output of a Canny transform.\n",
    "        \n",
    "    Returns an image with hough lines drawn.\n",
    "    \"\"\"\n",
    "    lines = cv2.HoughLinesP(img, rho, theta, threshold, np.array([]), minLineLength=min_line_len, maxLineGap=max_line_gap)\n",
    "    line_img = np.zeros((img.shape[0], img.shape[1], 3), dtype=np.uint8)\n",
    "    draw_lines(line_img, lines)\n",
    "    return line_img\n",
    "\n",
    "def weighted_img(img, initial_img, α=0.8, β=1., λ=0.):\n",
    "    \"\"\"\n",
    "    `img` is the output of the hough_lines(), An image with lines drawn on it.\n",
    "    Should be a blank image (all black) with lines drawn on it.\n",
    "    \n",
    "    `initial_img` should be the image before any processing.\n",
    "    \n",
    "    The result image is computed as follows:\n",
    "    \n",
    "    initial_img * α + img * β + λ\n",
    "    NOTE: initial_img and img must be the same shape!\n",
    "    \"\"\"\n",
    "    return cv2.addWeighted(initial_img, α, img, β, λ)"
   ]
  },
  {
   "cell_type": "markdown",
   "metadata": {},
   "source": [
    "## Pipeline"
   ]
  },
  {
   "cell_type": "code",
   "execution_count": 3,
   "metadata": {
    "collapsed": true
   },
   "outputs": [],
   "source": [
    "def process_image(image):\n",
    "    #Transform colored image to gray scale\n",
    "    grayImage = grayscale(image)\n",
    "\n",
    "    #Apply Gaussian Blur to smooth the image\n",
    "    smoothImage = gaussian_blur(grayImage,3)\n",
    "    \n",
    "    #Apply Canny Edge Detector\n",
    "    lowThreshold = 150\n",
    "    highThreshold = 200\n",
    "    cannyEdges = canny(smoothImage, lowThreshold, highThreshold)\n",
    "    \n",
    "    #Apply a four sided polygon mask\n",
    "    x = image.shape[1]/2\n",
    "    y = image.shape[0]/2\n",
    "        \n",
    "    upperLeft = (x -50 ,y +70)\n",
    "    upperRight = (x + 50 ,y +70)\n",
    "    lowerLeft = (50 ,image.shape[0])\n",
    "    lowerRight = (image.shape[1]-50,image.shape[0])\n",
    "    \n",
    "    vertices = np.array([[lowerLeft,upperLeft, upperRight, lowerRight]], dtype=np.int32)\n",
    "    maskedEdges = region_of_interest(cannyEdges,vertices)\n",
    "    \n",
    "    # Define the Hough transform parameters\n",
    "    rho = 2 # distance resolution in pixels of the Hough grid\n",
    "    theta = np.pi/180 # angular resolution in radians of the Hough grid\n",
    "    threshold = 30  # minimum number of votes (intersections in Hough grid cell)\n",
    "    minLineLength = 20 #minimum number of pixels making up a line\n",
    "    maxLineGap = 10 # maximum gap in pixels between connectable line segments\n",
    "\n",
    "    # Run Hough on edge detected image\n",
    "    # Iterate over the output \"lines\" and draw lines on a blank image\n",
    "    linesImage = hough_lines(maskedEdges, rho, theta, threshold,minLineLength, maxLineGap)\n",
    "    \n",
    "    # Draw the lines on the edge image\n",
    "    result = cv2.addWeighted(image, 0.8, linesImage, 1, 0) \n",
    "    \n",
    "    return result"
   ]
  },
  {
   "cell_type": "markdown",
   "metadata": {},
   "source": [
    "## Vedio Stream Input and Processing"
   ]
  },
  {
   "cell_type": "code",
   "execution_count": 4,
   "metadata": {
    "scrolled": true
   },
   "outputs": [
    {
     "name": "stdout",
     "output_type": "stream",
     "text": [
      "[MoviePy] >>>> Building video test_videos_output/solidWhiteRight.mp4\n",
      "[MoviePy] Writing video test_videos_output/solidWhiteRight.mp4\n"
     ]
    },
    {
     "name": "stderr",
     "output_type": "stream",
     "text": [
      "100%|███████████████████████████████████████▊| 221/222 [00:04<00:00, 54.03it/s]\n"
     ]
    },
    {
     "name": "stdout",
     "output_type": "stream",
     "text": [
      "[MoviePy] Done.\n",
      "[MoviePy] >>>> Video ready: test_videos_output/solidWhiteRight.mp4 \n",
      "\n",
      "Wall time: 4.63 s\n"
     ]
    }
   ],
   "source": [
    "#intialize global variables\n",
    "start_point_right = (0,0)\n",
    "end_point_right = (0,0)\n",
    "start_point_left = (0,0)\n",
    "end_point_left = (0,0)\n",
    "\n",
    "white_output = 'test_videos_output/solidWhiteRight.mp4'\n",
    "clip1 = VideoFileClip(\"test_videos/solidWhiteRight.mp4\")\n",
    "white_clip = clip1.fl_image(process_image)\n",
    "%time white_clip.write_videofile(white_output, audio=False)"
   ]
  },
  {
   "cell_type": "markdown",
   "metadata": {},
   "source": [
    "## Processed Vedio Result"
   ]
  },
  {
   "cell_type": "code",
   "execution_count": 5,
   "metadata": {
    "scrolled": true
   },
   "outputs": [
    {
     "data": {
      "text/html": [
       "\n",
       "<video width=\"960\" height=\"540\" controls>\n",
       "  <source src=\"test_videos_output/solidWhiteRight.mp4\">\n",
       "</video>\n"
      ],
      "text/plain": [
       "<IPython.core.display.HTML object>"
      ]
     },
     "execution_count": 5,
     "metadata": {},
     "output_type": "execute_result"
    }
   ],
   "source": [
    "HTML(\"\"\"\n",
    "<video width=\"960\" height=\"540\" controls>\n",
    "  <source src=\"{0}\">\n",
    "</video>\n",
    "\"\"\".format(white_output))"
   ]
  },
  {
   "cell_type": "markdown",
   "metadata": {},
   "source": [
    "## Video Stream Input and Processing"
   ]
  },
  {
   "cell_type": "code",
   "execution_count": 6,
   "metadata": {},
   "outputs": [
    {
     "name": "stdout",
     "output_type": "stream",
     "text": [
      "[MoviePy] >>>> Building video test_videos_output/solidYellowLeft.mp4\n",
      "[MoviePy] Writing video test_videos_output/solidYellowLeft.mp4\n"
     ]
    },
    {
     "name": "stderr",
     "output_type": "stream",
     "text": [
      "100%|███████████████████████████████████████▉| 681/682 [00:11<00:00, 60.96it/s]\n"
     ]
    },
    {
     "name": "stdout",
     "output_type": "stream",
     "text": [
      "[MoviePy] Done.\n",
      "[MoviePy] >>>> Video ready: test_videos_output/solidYellowLeft.mp4 \n",
      "\n",
      "Wall time: 11.6 s\n"
     ]
    }
   ],
   "source": [
    "#intialize global variables\n",
    "start_point_right = (0,0)\n",
    "end_point_right = (0,0)\n",
    "start_point_left = (0,0)\n",
    "end_point_left = (0,0)\n",
    "\n",
    "yellow_output = 'test_videos_output/solidYellowLeft.mp4'\n",
    "clip1 = VideoFileClip(\"test_videos/solidYellowLeft.mp4\")\n",
    "yellow_clip = clip1.fl_image(process_image)\n",
    "%time yellow_clip.write_videofile(yellow_output, audio=False)"
   ]
  },
  {
   "cell_type": "markdown",
   "metadata": {},
   "source": [
    "## Processed Vedio Result"
   ]
  },
  {
   "cell_type": "code",
   "execution_count": 7,
   "metadata": {},
   "outputs": [
    {
     "data": {
      "text/html": [
       "\n",
       "<video width=\"960\" height=\"540\" controls>\n",
       "  <source src=\"test_videos_output/solidYellowLeft.mp4\">\n",
       "</video>\n"
      ],
      "text/plain": [
       "<IPython.core.display.HTML object>"
      ]
     },
     "execution_count": 7,
     "metadata": {},
     "output_type": "execute_result"
    }
   ],
   "source": [
    "HTML(\"\"\"\n",
    "<video width=\"960\" height=\"540\" controls>\n",
    "  <source src=\"{0}\">\n",
    "</video>\n",
    "\"\"\".format(yellow_output))"
   ]
  },
  {
   "cell_type": "markdown",
   "metadata": {},
   "source": [
    "## Vedio Stream Input and Processing"
   ]
  },
  {
   "cell_type": "code",
   "execution_count": 8,
   "metadata": {},
   "outputs": [
    {
     "name": "stdout",
     "output_type": "stream",
     "text": [
      "[MoviePy] >>>> Building video test_videos_output/challenge.mp4\n",
      "[MoviePy] Writing video test_videos_output/challenge.mp4\n"
     ]
    },
    {
     "name": "stderr",
     "output_type": "stream",
     "text": [
      "100%|████████████████████████████████████████| 251/251 [00:07<00:00, 31.79it/s]\n"
     ]
    },
    {
     "name": "stdout",
     "output_type": "stream",
     "text": [
      "[MoviePy] Done.\n",
      "[MoviePy] >>>> Video ready: test_videos_output/challenge.mp4 \n",
      "\n",
      "Wall time: 8.86 s\n"
     ]
    }
   ],
   "source": [
    "#intialize global variables\n",
    "start_point_right = (0,0)\n",
    "end_point_right = (0,0)\n",
    "start_point_left = (0,0)\n",
    "end_point_left = (0,0)\n",
    "\n",
    "challenge_output = 'test_videos_output/challenge.mp4'\n",
    "clip1 = VideoFileClip(\"test_videos/challenge.mp4\")\n",
    "challenge_clip = clip1.fl_image(process_image)\n",
    "%time challenge_clip.write_videofile(challenge_output, audio=False)"
   ]
  },
  {
   "cell_type": "markdown",
   "metadata": {},
   "source": [
    "## Processed Vedio Result"
   ]
  },
  {
   "cell_type": "code",
   "execution_count": 9,
   "metadata": {},
   "outputs": [
    {
     "data": {
      "text/html": [
       "\n",
       "<video width=\"960\" height=\"540\" controls>\n",
       "  <source src=\"test_videos_output/challenge.mp4\">\n",
       "</video>\n"
      ],
      "text/plain": [
       "<IPython.core.display.HTML object>"
      ]
     },
     "execution_count": 9,
     "metadata": {},
     "output_type": "execute_result"
    }
   ],
   "source": [
    "HTML(\"\"\"\n",
    "<video width=\"960\" height=\"540\" controls>\n",
    "  <source src=\"{0}\">\n",
    "</video>\n",
    "\"\"\".format(challenge_output))"
   ]
  }
 ],
 "metadata": {
  "kernelspec": {
   "display_name": "Python 3",
   "language": "python",
   "name": "python3"
  },
  "language_info": {
   "codemirror_mode": {
    "name": "ipython",
    "version": 3
   },
   "file_extension": ".py",
   "mimetype": "text/x-python",
   "name": "python",
   "nbconvert_exporter": "python",
   "pygments_lexer": "ipython3",
   "version": "3.5.2"
  },
  "widgets": {
   "state": {},
   "version": "1.1.2"
  }
 },
 "nbformat": 4,
 "nbformat_minor": 2
}
